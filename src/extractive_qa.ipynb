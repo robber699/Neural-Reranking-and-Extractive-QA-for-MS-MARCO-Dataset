{
  "cells": [
    {
      "cell_type": "markdown",
      "metadata": {
        "id": "D8usSW9Bwv4h"
      },
      "source": [
        "# AIR - Exercise in Google Colab\n",
        "\n",
        "## Colab Preparation\n",
        "\n",
        "Open via google drive -> right click: open with Colab\n",
        "\n",
        "**Get a GPU**\n",
        "\n",
        "Toolbar -> Runtime -> Change Runtime Type -> GPU\n",
        "\n",
        "**Mount Google Drive**\n",
        "\n",
        "* Download data and clone your github repo to your Google Drive folder\n",
        "* Use Google Drive as connection between Github and Colab (Could also use direct github access, but re-submitting credentials might be annoying)\n",
        "* Commit to Github locally from the synced drive\n",
        "\n",
        "**Keep Alive**\n",
        "\n",
        "When training google colab tends to kick you out, This might help: https://medium.com/@shivamrawat_756/how-to-prevent-google-colab-from-disconnecting-717b88a128c0\n",
        "\n",
        "**Get Started**\n",
        "\n",
        "Run the following script to mount google drive and install needed python packages. Pytorch comes pre-installed."
      ]
    },
    {
      "cell_type": "code",
      "execution_count": null,
      "metadata": {
        "colab": {
          "base_uri": "https://localhost:8080/"
        },
        "id": "Sfiw_6jZ0uWa",
        "outputId": "c094bf0e-d3a4-4222-c35e-81f516236ee4"
      },
      "outputs": [],
      "source": [
        "from google.colab import drive\n",
        "drive.mount('/content/drive')"
      ]
    },
    {
      "cell_type": "code",
      "execution_count": null,
      "metadata": {
        "colab": {
          "base_uri": "https://localhost:8080/"
        },
        "id": "gvW25Uj6qD8w",
        "outputId": "2f651adb-ee7c-4dd4-b478-7fc984dd75e3"
      },
      "outputs": [],
      "source": [
        "%cd /content/drive/MyDrive/air-2024-group60/src"
      ]
    },
    {
      "cell_type": "code",
      "execution_count": null,
      "metadata": {
        "colab": {
          "base_uri": "https://localhost:8080/"
        },
        "collapsed": true,
        "id": "wpQj1kBup4kJ",
        "outputId": "8deb06ff-6f8a-4d15-89a2-79731fa82314"
      },
      "outputs": [],
      "source": [
        "%env PYTHONPATH =\n",
        "!wget https://repo.anaconda.com/miniconda/Miniconda3-py38_4.12.0-Linux-x86_64.sh\n",
        "!chmod +x Miniconda3-py38_4.12.0-Linux-x86_64.sh\n",
        "!./Miniconda3-py38_4.12.0-Linux-x86_64.sh -b -f -p /usr/local\n",
        "!conda update conda -y\n",
        "\n",
        "import sys\n",
        "import os\n",
        "sys.path.append(\"/usr/local/lib/python3.8/site-packages\")\n",
        "path = '/usr/local/bin:' + os.environ['PATH']\n",
        "%env PATH=$path\n",
        "\n",
        "!conda create --prefix /usr/local/envs/env_36_loc python=3.6 -y\n",
        "\n",
        "!conda run -n env_36_loc conda info --envs \n",
        "\n",
        "!conda run -n env_36_loc python --version"
      ]
    },
    {
      "cell_type": "code",
      "execution_count": null,
      "metadata": {
        "colab": {
          "base_uri": "https://localhost:8080/"
        },
        "collapsed": true,
        "id": "CnZFQpH-p4Rm",
        "outputId": "597641f9-50bb-47d5-84e4-a044a3cb1ef7"
      },
      "outputs": [],
      "source": [
        "!conda run -n env_36_loc pip install -r /content/drive/MyDrive/air-2024-group60/requirements.txt"
      ]
    },
    {
      "cell_type": "code",
      "execution_count": null,
      "metadata": {
        "id": "PTM6OfH9BQxe"
      },
      "outputs": [],
      "source": [
        "!conda run -n env_36_loc pip install pandas"
      ]
    },
    {
      "cell_type": "code",
      "execution_count": null,
      "metadata": {
        "id": "zDXNvk-8S31J"
      },
      "outputs": [],
      "source": [
        "!nvidia-smi"
      ]
    },
    {
      "cell_type": "code",
      "execution_count": null,
      "metadata": {
        "colab": {
          "base_uri": "https://localhost:8080/"
        },
        "collapsed": true,
        "id": "tVhkALA4VrDY",
        "outputId": "641c65ee-f064-401e-cc51-b0a8b9f03c6f"
      },
      "outputs": [],
      "source": [
        "!pip install torch==1.6.0 torchvision==0.7.0 torchaudio==0.6.0 -f https://download.pytorch.org/whl/cu101/torch_stable.html"
      ]
    },
    {
      "cell_type": "code",
      "execution_count": null,
      "metadata": {
        "colab": {
          "base_uri": "https://localhost:8080/"
        },
        "id": "IUVVDw1m2sed",
        "outputId": "2a0d7d65-db94-413c-bfdf-24751b52f081"
      },
      "outputs": [],
      "source": [
        "import torch\n",
        "\n",
        "print(\"Version:\",torch.__version__)\n",
        "print(\"Has GPU:\",torch.cuda.is_available()) # check that 1 gpu is available\n",
        "print(\"Random tensor:\",torch.rand(10,device=\"cuda\")) # check that pytorch works"
      ]
    },
    {
      "cell_type": "markdown",
      "metadata": {
        "id": "fvQMmxs0x_x8"
      },
      "source": [
        "# Main.py Replacement\n",
        "\n",
        "-> add your code here\n",
        "\n",
        "- Replace *air_test* with your google drive location in the sys.path.append()"
      ]
    },
    {
      "cell_type": "code",
      "execution_count": null,
      "metadata": {
        "colab": {
          "base_uri": "https://localhost:8080/"
        },
        "id": "bXlWk_HYYveg",
        "outputId": "932522dd-fd7f-4daa-c2cb-db556c05567e"
      },
      "outputs": [],
      "source": [
        "%cd /content/drive/MyDrive/air-2024-group60/src"
      ]
    },
    {
      "cell_type": "code",
      "execution_count": null,
      "metadata": {
        "id": "e6ICwZk-B5qN"
      },
      "outputs": [],
      "source": [
        "%%shell\n",
        "eval \"$(conda shell.bash hook)\"\n",
        "conda activate env_36_loc\n",
        "\n",
        "chmod +x /content/drive/MyDrive/air-2024-group60/src/extractive_qa.py\n",
        "python3 /content/drive/MyDrive/air-2024-group60/src/extractive_qa.py"
      ]
    }
  ],
  "metadata": {
    "accelerator": "GPU",
    "colab": {
      "gpuType": "T4",
      "machine_shape": "hm",
      "provenance": []
    },
    "kernelspec": {
      "display_name": "Python 3",
      "name": "python3"
    }
  },
  "nbformat": 4,
  "nbformat_minor": 0
}
